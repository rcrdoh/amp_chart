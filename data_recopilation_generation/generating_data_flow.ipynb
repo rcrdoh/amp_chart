{
 "cells": [
  {
   "cell_type": "code",
   "execution_count": 82,
   "metadata": {},
   "outputs": [],
   "source": [
    "import numpy as np\n",
    "import pandas as pd\n",
    "import matplotlib.pyplot as plt\n",
    "import seaborn as sns"
   ]
  },
  {
   "cell_type": "markdown",
   "metadata": {},
   "source": [
    "## Leyendo el dataset"
   ]
  },
  {
   "cell_type": "code",
   "execution_count": 144,
   "metadata": {},
   "outputs": [],
   "source": [
    "## generando nombres de las columnas\n",
    "arr=[]\n",
    "for i in range(4):\n",
    "    arr.append('time'+str(i))\n",
    "    arr.append('current'+str(i))\n",
    "    "
   ]
  },
  {
   "cell_type": "code",
   "execution_count": 8,
   "metadata": {},
   "outputs": [],
   "source": [
    "sintetic_data=pd.read_csv('data.csv',names=arr)"
   ]
  },
  {
   "cell_type": "code",
   "execution_count": 10,
   "metadata": {},
   "outputs": [
    {
     "data": {
      "text/html": [
       "<div>\n",
       "<style scoped>\n",
       "    .dataframe tbody tr th:only-of-type {\n",
       "        vertical-align: middle;\n",
       "    }\n",
       "\n",
       "    .dataframe tbody tr th {\n",
       "        vertical-align: top;\n",
       "    }\n",
       "\n",
       "    .dataframe thead th {\n",
       "        text-align: right;\n",
       "    }\n",
       "</style>\n",
       "<table border=\"1\" class=\"dataframe\">\n",
       "  <thead>\n",
       "    <tr style=\"text-align: right;\">\n",
       "      <th></th>\n",
       "      <th>time0</th>\n",
       "      <th>current0</th>\n",
       "      <th>time1</th>\n",
       "      <th>current1</th>\n",
       "      <th>time2</th>\n",
       "      <th>current2</th>\n",
       "      <th>time3</th>\n",
       "      <th>current3</th>\n",
       "    </tr>\n",
       "  </thead>\n",
       "  <tbody>\n",
       "    <tr>\n",
       "      <td>25</td>\n",
       "      <td>26</td>\n",
       "      <td>50</td>\n",
       "      <td>26</td>\n",
       "      <td>50</td>\n",
       "      <td>26</td>\n",
       "      <td>55</td>\n",
       "      <td>26</td>\n",
       "      <td>50</td>\n",
       "    </tr>\n",
       "    <tr>\n",
       "      <td>26</td>\n",
       "      <td>27</td>\n",
       "      <td>50</td>\n",
       "      <td>27</td>\n",
       "      <td>50</td>\n",
       "      <td>27</td>\n",
       "      <td>50</td>\n",
       "      <td>27</td>\n",
       "      <td>50</td>\n",
       "    </tr>\n",
       "    <tr>\n",
       "      <td>27</td>\n",
       "      <td>28</td>\n",
       "      <td>50</td>\n",
       "      <td>28</td>\n",
       "      <td>50</td>\n",
       "      <td>28</td>\n",
       "      <td>50</td>\n",
       "      <td>28</td>\n",
       "      <td>50</td>\n",
       "    </tr>\n",
       "    <tr>\n",
       "      <td>28</td>\n",
       "      <td>29</td>\n",
       "      <td>50</td>\n",
       "      <td>29</td>\n",
       "      <td>50</td>\n",
       "      <td>29</td>\n",
       "      <td>50</td>\n",
       "      <td>29</td>\n",
       "      <td>50</td>\n",
       "    </tr>\n",
       "    <tr>\n",
       "      <td>29</td>\n",
       "      <td>30</td>\n",
       "      <td>50</td>\n",
       "      <td>30</td>\n",
       "      <td>50</td>\n",
       "      <td>30</td>\n",
       "      <td>50</td>\n",
       "      <td>30</td>\n",
       "      <td>50</td>\n",
       "    </tr>\n",
       "  </tbody>\n",
       "</table>\n",
       "</div>"
      ],
      "text/plain": [
       "    time0  current0  time1  current1  time2  current2  time3  current3\n",
       "25     26        50     26        50     26        55     26        50\n",
       "26     27        50     27        50     27        50     27        50\n",
       "27     28        50     28        50     28        50     28        50\n",
       "28     29        50     29        50     29        50     29        50\n",
       "29     30        50     30        50     30        50     30        50"
      ]
     },
     "execution_count": 10,
     "metadata": {},
     "output_type": "execute_result"
    }
   ],
   "source": [
    "sintetic_data.tail()"
   ]
  },
  {
   "cell_type": "markdown",
   "metadata": {},
   "source": [
    "## Testeando la generacion de los datos para un caso"
   ]
  },
  {
   "cell_type": "code",
   "execution_count": 84,
   "metadata": {},
   "outputs": [],
   "source": [
    "## creando valores hasta 6 horas\n",
    "## \n",
    "## lo ideal es introducir ligeras variaciones a los nuevos datos\n",
    "media=50\n",
    "desviacion=0.2\n",
    "current=np.random.normal(media, desviacion, 330)\n",
    "\n",
    "#este codigo sirve para rellenar de un solo valor los datos faltantes\n",
    "#actual_current=50\n",
    "#current = np.array([actual_current for i in range(0,330)])"
   ]
  },
  {
   "cell_type": "code",
   "execution_count": 85,
   "metadata": {},
   "outputs": [
    {
     "data": {
      "image/png": "[encoded data removed]",
      "text/plain": [
       "<Figure size 432x288 with 1 Axes>"
      ]
     },
     "metadata": {
      "needs_background": "light"
     },
     "output_type": "display_data"
    }
   ],
   "source": [
    "# para verificar la variacion de los datos segun la deviacion usada\n",
    "# histograma de distribución normal.\n",
    "cuenta, cajas, ignorar = plt.hist(datos, 20)\n",
    "plt.ylabel('frequencia')\n",
    "plt.xlabel('valores')\n",
    "plt.title('Histograma')\n",
    "plt.show()"
   ]
  },
  {
   "cell_type": "code",
   "execution_count": 86,
   "metadata": {},
   "outputs": [],
   "source": [
    "## generando los indices de tiempo\n",
    "time=np.array([i for i in range(31,361)])"
   ]
  },
  {
   "cell_type": "code",
   "execution_count": 87,
   "metadata": {},
   "outputs": [],
   "source": [
    "plus_time=np.append(np.array(sintetic_data['time0']),time)\n",
    "plus_current=np.append(np.array(sintetic_data['current0']),current)"
   ]
  },
  {
   "cell_type": "code",
   "execution_count": 100,
   "metadata": {},
   "outputs": [
    {
     "data": {
      "text/plain": [
       "<matplotlib.axes._subplots.AxesSubplot at 0x7fcd559d9f60>"
      ]
     },
     "execution_count": 100,
     "metadata": {},
     "output_type": "execute_result"
    },
    {
     "data": {
      "image/png": "[encoded data removed]",
      "text/plain": [
       "<Figure size 432x288 with 1 Axes>"
      ]
     },
     "metadata": {
      "needs_background": "light"
     },
     "output_type": "display_data"
    }
   ],
   "source": [
    "sns.scatterplot(plus_time[:100],plus_current[:100],s=12)"
   ]
  },
  {
   "cell_type": "markdown",
   "metadata": {},
   "source": [
    "## Generando dataframe final"
   ]
  },
  {
   "cell_type": "code",
   "execution_count": 102,
   "metadata": {},
   "outputs": [],
   "source": [
    "## se crean los valores para anyadir al dataset inicial\n",
    "media=50\n",
    "desviacion=0.2\n",
    "generating=np.array([time,np.random.normal(media, desviacion, 330),time,np.random.normal(media, desviacion, 330),time,np.random.normal(media, desviacion, 330),time,np.random.normal(media, desviacion, 330)])"
   ]
  },
  {
   "cell_type": "code",
   "execution_count": 117,
   "metadata": {},
   "outputs": [],
   "source": [
    "## trnaspuesta para cambiar el orden de columnas y filas\n",
    "generating=generating.transpose()"
   ]
  },
  {
   "cell_type": "code",
   "execution_count": 134,
   "metadata": {},
   "outputs": [],
   "source": [
    "## creando dataframe , importante para la concatenacion asignar los mismos nombres de columnas\n",
    "df_generating=pd.DataFrame(generating,columns=sintetic_data.columns)"
   ]
  },
  {
   "cell_type": "code",
   "execution_count": 135,
   "metadata": {},
   "outputs": [
    {
     "data": {
      "text/html": [
       "<div>\n",
       "<style scoped>\n",
       "    .dataframe tbody tr th:only-of-type {\n",
       "        vertical-align: middle;\n",
       "    }\n",
       "\n",
       "    .dataframe tbody tr th {\n",
       "        vertical-align: top;\n",
       "    }\n",
       "\n",
       "    .dataframe thead th {\n",
       "        text-align: right;\n",
       "    }\n",
       "</style>\n",
       "<table border=\"1\" class=\"dataframe\">\n",
       "  <thead>\n",
       "    <tr style=\"text-align: right;\">\n",
       "      <th></th>\n",
       "      <th>time0</th>\n",
       "      <th>current0</th>\n",
       "      <th>time1</th>\n",
       "      <th>current1</th>\n",
       "      <th>time2</th>\n",
       "      <th>current2</th>\n",
       "      <th>time3</th>\n",
       "      <th>current3</th>\n",
       "    </tr>\n",
       "  </thead>\n",
       "  <tbody>\n",
       "    <tr>\n",
       "      <td>0</td>\n",
       "      <td>31.0</td>\n",
       "      <td>50.425563</td>\n",
       "      <td>31.0</td>\n",
       "      <td>49.896725</td>\n",
       "      <td>31.0</td>\n",
       "      <td>49.784992</td>\n",
       "      <td>31.0</td>\n",
       "      <td>49.947407</td>\n",
       "    </tr>\n",
       "    <tr>\n",
       "      <td>1</td>\n",
       "      <td>32.0</td>\n",
       "      <td>50.095227</td>\n",
       "      <td>32.0</td>\n",
       "      <td>50.197654</td>\n",
       "      <td>32.0</td>\n",
       "      <td>49.949529</td>\n",
       "      <td>32.0</td>\n",
       "      <td>50.140005</td>\n",
       "    </tr>\n",
       "    <tr>\n",
       "      <td>2</td>\n",
       "      <td>33.0</td>\n",
       "      <td>50.196260</td>\n",
       "      <td>33.0</td>\n",
       "      <td>49.915558</td>\n",
       "      <td>33.0</td>\n",
       "      <td>49.802211</td>\n",
       "      <td>33.0</td>\n",
       "      <td>49.619741</td>\n",
       "    </tr>\n",
       "    <tr>\n",
       "      <td>3</td>\n",
       "      <td>34.0</td>\n",
       "      <td>49.647017</td>\n",
       "      <td>34.0</td>\n",
       "      <td>49.863959</td>\n",
       "      <td>34.0</td>\n",
       "      <td>49.997121</td>\n",
       "      <td>34.0</td>\n",
       "      <td>50.119604</td>\n",
       "    </tr>\n",
       "    <tr>\n",
       "      <td>4</td>\n",
       "      <td>35.0</td>\n",
       "      <td>50.024863</td>\n",
       "      <td>35.0</td>\n",
       "      <td>49.948248</td>\n",
       "      <td>35.0</td>\n",
       "      <td>50.257367</td>\n",
       "      <td>35.0</td>\n",
       "      <td>50.226410</td>\n",
       "    </tr>\n",
       "    <tr>\n",
       "      <td>...</td>\n",
       "      <td>...</td>\n",
       "      <td>...</td>\n",
       "      <td>...</td>\n",
       "      <td>...</td>\n",
       "      <td>...</td>\n",
       "      <td>...</td>\n",
       "      <td>...</td>\n",
       "      <td>...</td>\n",
       "    </tr>\n",
       "    <tr>\n",
       "      <td>325</td>\n",
       "      <td>356.0</td>\n",
       "      <td>49.773217</td>\n",
       "      <td>356.0</td>\n",
       "      <td>49.871064</td>\n",
       "      <td>356.0</td>\n",
       "      <td>50.154195</td>\n",
       "      <td>356.0</td>\n",
       "      <td>49.697781</td>\n",
       "    </tr>\n",
       "    <tr>\n",
       "      <td>326</td>\n",
       "      <td>357.0</td>\n",
       "      <td>50.239024</td>\n",
       "      <td>357.0</td>\n",
       "      <td>49.950369</td>\n",
       "      <td>357.0</td>\n",
       "      <td>49.488579</td>\n",
       "      <td>357.0</td>\n",
       "      <td>49.949983</td>\n",
       "    </tr>\n",
       "    <tr>\n",
       "      <td>327</td>\n",
       "      <td>358.0</td>\n",
       "      <td>50.021850</td>\n",
       "      <td>358.0</td>\n",
       "      <td>49.729930</td>\n",
       "      <td>358.0</td>\n",
       "      <td>50.070155</td>\n",
       "      <td>358.0</td>\n",
       "      <td>49.814249</td>\n",
       "    </tr>\n",
       "    <tr>\n",
       "      <td>328</td>\n",
       "      <td>359.0</td>\n",
       "      <td>50.120278</td>\n",
       "      <td>359.0</td>\n",
       "      <td>49.778753</td>\n",
       "      <td>359.0</td>\n",
       "      <td>49.704292</td>\n",
       "      <td>359.0</td>\n",
       "      <td>49.977069</td>\n",
       "    </tr>\n",
       "    <tr>\n",
       "      <td>329</td>\n",
       "      <td>360.0</td>\n",
       "      <td>49.947489</td>\n",
       "      <td>360.0</td>\n",
       "      <td>50.077604</td>\n",
       "      <td>360.0</td>\n",
       "      <td>49.764996</td>\n",
       "      <td>360.0</td>\n",
       "      <td>50.033348</td>\n",
       "    </tr>\n",
       "  </tbody>\n",
       "</table>\n",
       "<p>330 rows × 8 columns</p>\n",
       "</div>"
      ],
      "text/plain": [
       "     time0   current0  time1   current1  time2   current2  time3   current3\n",
       "0     31.0  50.425563   31.0  49.896725   31.0  49.784992   31.0  49.947407\n",
       "1     32.0  50.095227   32.0  50.197654   32.0  49.949529   32.0  50.140005\n",
       "2     33.0  50.196260   33.0  49.915558   33.0  49.802211   33.0  49.619741\n",
       "3     34.0  49.647017   34.0  49.863959   34.0  49.997121   34.0  50.119604\n",
       "4     35.0  50.024863   35.0  49.948248   35.0  50.257367   35.0  50.226410\n",
       "..     ...        ...    ...        ...    ...        ...    ...        ...\n",
       "325  356.0  49.773217  356.0  49.871064  356.0  50.154195  356.0  49.697781\n",
       "326  357.0  50.239024  357.0  49.950369  357.0  49.488579  357.0  49.949983\n",
       "327  358.0  50.021850  358.0  49.729930  358.0  50.070155  358.0  49.814249\n",
       "328  359.0  50.120278  359.0  49.778753  359.0  49.704292  359.0  49.977069\n",
       "329  360.0  49.947489  360.0  50.077604  360.0  49.764996  360.0  50.033348\n",
       "\n",
       "[330 rows x 8 columns]"
      ]
     },
     "execution_count": 135,
     "metadata": {},
     "output_type": "execute_result"
    }
   ],
   "source": [
    "df_generating"
   ]
  },
  {
   "cell_type": "code",
   "execution_count": 140,
   "metadata": {},
   "outputs": [],
   "source": [
    "## se unen los dos dataset el original y el nuevo \n",
    "df_sintetic=pd.concat([sintetic_data,df_generating],ignore_index=True)"
   ]
  },
  {
   "cell_type": "code",
   "execution_count": 143,
   "metadata": {},
   "outputs": [
    {
     "data": {
      "text/html": [
       "<div>\n",
       "<style scoped>\n",
       "    .dataframe tbody tr th:only-of-type {\n",
       "        vertical-align: middle;\n",
       "    }\n",
       "\n",
       "    .dataframe tbody tr th {\n",
       "        vertical-align: top;\n",
       "    }\n",
       "\n",
       "    .dataframe thead th {\n",
       "        text-align: right;\n",
       "    }\n",
       "</style>\n",
       "<table border=\"1\" class=\"dataframe\">\n",
       "  <thead>\n",
       "    <tr style=\"text-align: right;\">\n",
       "      <th></th>\n",
       "      <th>time0</th>\n",
       "      <th>current0</th>\n",
       "      <th>time1</th>\n",
       "      <th>current1</th>\n",
       "      <th>time2</th>\n",
       "      <th>current2</th>\n",
       "      <th>time3</th>\n",
       "      <th>current3</th>\n",
       "    </tr>\n",
       "  </thead>\n",
       "  <tbody>\n",
       "    <tr>\n",
       "      <td>0</td>\n",
       "      <td>1.0</td>\n",
       "      <td>0.000000</td>\n",
       "      <td>1.0</td>\n",
       "      <td>0.000000</td>\n",
       "      <td>1.0</td>\n",
       "      <td>0.000000</td>\n",
       "      <td>1.0</td>\n",
       "      <td>0.000000</td>\n",
       "    </tr>\n",
       "    <tr>\n",
       "      <td>1</td>\n",
       "      <td>2.0</td>\n",
       "      <td>80.000000</td>\n",
       "      <td>2.0</td>\n",
       "      <td>90.000000</td>\n",
       "      <td>2.0</td>\n",
       "      <td>75.000000</td>\n",
       "      <td>2.0</td>\n",
       "      <td>87.000000</td>\n",
       "    </tr>\n",
       "    <tr>\n",
       "      <td>2</td>\n",
       "      <td>3.0</td>\n",
       "      <td>58.000000</td>\n",
       "      <td>3.0</td>\n",
       "      <td>53.000000</td>\n",
       "      <td>3.0</td>\n",
       "      <td>55.000000</td>\n",
       "      <td>3.0</td>\n",
       "      <td>55.000000</td>\n",
       "    </tr>\n",
       "    <tr>\n",
       "      <td>3</td>\n",
       "      <td>4.0</td>\n",
       "      <td>50.000000</td>\n",
       "      <td>4.0</td>\n",
       "      <td>50.000000</td>\n",
       "      <td>4.0</td>\n",
       "      <td>50.000000</td>\n",
       "      <td>4.0</td>\n",
       "      <td>50.000000</td>\n",
       "    </tr>\n",
       "    <tr>\n",
       "      <td>4</td>\n",
       "      <td>5.0</td>\n",
       "      <td>50.000000</td>\n",
       "      <td>5.0</td>\n",
       "      <td>50.000000</td>\n",
       "      <td>5.0</td>\n",
       "      <td>53.000000</td>\n",
       "      <td>5.0</td>\n",
       "      <td>50.000000</td>\n",
       "    </tr>\n",
       "    <tr>\n",
       "      <td>...</td>\n",
       "      <td>...</td>\n",
       "      <td>...</td>\n",
       "      <td>...</td>\n",
       "      <td>...</td>\n",
       "      <td>...</td>\n",
       "      <td>...</td>\n",
       "      <td>...</td>\n",
       "      <td>...</td>\n",
       "    </tr>\n",
       "    <tr>\n",
       "      <td>355</td>\n",
       "      <td>356.0</td>\n",
       "      <td>49.773217</td>\n",
       "      <td>356.0</td>\n",
       "      <td>49.871064</td>\n",
       "      <td>356.0</td>\n",
       "      <td>50.154195</td>\n",
       "      <td>356.0</td>\n",
       "      <td>49.697781</td>\n",
       "    </tr>\n",
       "    <tr>\n",
       "      <td>356</td>\n",
       "      <td>357.0</td>\n",
       "      <td>50.239024</td>\n",
       "      <td>357.0</td>\n",
       "      <td>49.950369</td>\n",
       "      <td>357.0</td>\n",
       "      <td>49.488579</td>\n",
       "      <td>357.0</td>\n",
       "      <td>49.949983</td>\n",
       "    </tr>\n",
       "    <tr>\n",
       "      <td>357</td>\n",
       "      <td>358.0</td>\n",
       "      <td>50.021850</td>\n",
       "      <td>358.0</td>\n",
       "      <td>49.729930</td>\n",
       "      <td>358.0</td>\n",
       "      <td>50.070155</td>\n",
       "      <td>358.0</td>\n",
       "      <td>49.814249</td>\n",
       "    </tr>\n",
       "    <tr>\n",
       "      <td>358</td>\n",
       "      <td>359.0</td>\n",
       "      <td>50.120278</td>\n",
       "      <td>359.0</td>\n",
       "      <td>49.778753</td>\n",
       "      <td>359.0</td>\n",
       "      <td>49.704292</td>\n",
       "      <td>359.0</td>\n",
       "      <td>49.977069</td>\n",
       "    </tr>\n",
       "    <tr>\n",
       "      <td>359</td>\n",
       "      <td>360.0</td>\n",
       "      <td>49.947489</td>\n",
       "      <td>360.0</td>\n",
       "      <td>50.077604</td>\n",
       "      <td>360.0</td>\n",
       "      <td>49.764996</td>\n",
       "      <td>360.0</td>\n",
       "      <td>50.033348</td>\n",
       "    </tr>\n",
       "  </tbody>\n",
       "</table>\n",
       "<p>360 rows × 8 columns</p>\n",
       "</div>"
      ],
      "text/plain": [
       "     time0   current0  time1   current1  time2   current2  time3   current3\n",
       "0      1.0   0.000000    1.0   0.000000    1.0   0.000000    1.0   0.000000\n",
       "1      2.0  80.000000    2.0  90.000000    2.0  75.000000    2.0  87.000000\n",
       "2      3.0  58.000000    3.0  53.000000    3.0  55.000000    3.0  55.000000\n",
       "3      4.0  50.000000    4.0  50.000000    4.0  50.000000    4.0  50.000000\n",
       "4      5.0  50.000000    5.0  50.000000    5.0  53.000000    5.0  50.000000\n",
       "..     ...        ...    ...        ...    ...        ...    ...        ...\n",
       "355  356.0  49.773217  356.0  49.871064  356.0  50.154195  356.0  49.697781\n",
       "356  357.0  50.239024  357.0  49.950369  357.0  49.488579  357.0  49.949983\n",
       "357  358.0  50.021850  358.0  49.729930  358.0  50.070155  358.0  49.814249\n",
       "358  359.0  50.120278  359.0  49.778753  359.0  49.704292  359.0  49.977069\n",
       "359  360.0  49.947489  360.0  50.077604  360.0  49.764996  360.0  50.033348\n",
       "\n",
       "[360 rows x 8 columns]"
      ]
     },
     "execution_count": 143,
     "metadata": {},
     "output_type": "execute_result"
    }
   ],
   "source": [
    "df_sintetic"
   ]
  },
  {
   "cell_type": "markdown",
   "metadata": {},
   "source": [
    "## Ploteando las curvas"
   ]
  },
  {
   "cell_type": "code",
   "execution_count": 173,
   "metadata": {},
   "outputs": [
    {
     "data": {
      "image/png": "[encoded data removed]",
      "text/plain": [
       "<Figure size 720x720 with 4 Axes>"
      ]
     },
     "metadata": {
      "needs_background": "light"
     },
     "output_type": "display_data"
    }
   ],
   "source": [
    "## variar figsize para variar el tamanyo de la figura , y la variable s para el tamanyo de los puntos\n",
    "f,axes = plt.subplots(4,1,figsize=(10,10))\n",
    "f.tight_layout()\n",
    "\n",
    "for i in range(0,4):\n",
    "    sns.scatterplot(df_sintetic['time'+str(i)][:100],df_sintetic['current'+str(i)][:100],s=30,ax=axes[i])\n",
    "    sns.lineplot(df_sintetic['time'+str(i)][:100],df_sintetic['current'+str(i)][:100],color='red',ax=axes[i])\n",
    "## solo se ploteo los 100 primeros datos para tener mayor visibilidad del patron inicial"
   ]
  },
  {
   "cell_type": "code",
   "execution_count": null,
   "metadata": {},
   "outputs": [],
   "source": []
  }
 ],
 "metadata": {
  "kernelspec": {
   "display_name": "Python 3",
   "language": "python",
   "name": "python3"
  },
  "language_info": {
   "codemirror_mode": {
    "name": "ipython",
    "version": 3
   },
   "file_extension": ".py",
   "mimetype": "text/x-python",
   "name": "python",
   "nbconvert_exporter": "python",
   "pygments_lexer": "ipython3",
   "version": "3.6.8"
  }
 },
 "nbformat": 4,
 "nbformat_minor": 2
}
